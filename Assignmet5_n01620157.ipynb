{
  "nbformat": 4,
  "nbformat_minor": 0,
  "metadata": {
    "colab": {
      "provenance": [],
      "authorship_tag": "ABX9TyPvVewkmIthkFFm80LOcAGh",
      "include_colab_link": true
    },
    "kernelspec": {
      "name": "python3",
      "display_name": "Python 3"
    },
    "language_info": {
      "name": "python"
    }
  },
  "cells": [
    {
      "cell_type": "markdown",
      "metadata": {
        "id": "view-in-github",
        "colab_type": "text"
      },
      "source": [
        "<a href=\"https://colab.research.google.com/github/KIRTIRAJ4327/ML/blob/main/Assignmet5_n01620157.ipynb\" target=\"_parent\"><img src=\"https://colab.research.google.com/assets/colab-badge.svg\" alt=\"Open In Colab\"/></a>"
      ]
    },
    {
      "cell_type": "code",
      "execution_count": 2,
      "metadata": {
        "colab": {
          "base_uri": "https://localhost:8080/"
        },
        "id": "KUC3b4ct9WZP",
        "outputId": "5c9960d0-5585-4305-beb8-19ea721bf086"
      },
      "outputs": [
        {
          "output_type": "stream",
          "name": "stdout",
          "text": [
            "Epoch 0, Loss: 0.3667\n",
            "Epoch 10, Loss: 0.2995\n",
            "Epoch 20, Loss: 0.0643\n",
            "Epoch 30, Loss: 0.0983\n",
            "Epoch 40, Loss: 0.0158\n",
            "\n",
            "Results:\n",
            "[1.0, 1.0] -> 0.1997\n",
            "[0.0, 0.0] -> -0.0067\n",
            "[1.0, 0.0] -> 0.9449\n",
            "[0.0, 1.0] -> 0.9004\n"
          ]
        }
      ],
      "source": [
        "import torch\n",
        "import torch.nn as nn\n",
        "from torch.utils.data import DataLoader, TensorDataset\n",
        "\n",
        "# Data\n",
        "X = torch.tensor([[1.,1.],[0.,0.],[1.,0.], [0.,1.]])\n",
        "y = torch.tensor([[0.],[0.],[1.], [1.]])\n",
        "\n",
        "# Model\n",
        "model = nn.Sequential(\n",
        "    nn.Linear(2, 10),\n",
        "    nn.ReLU(),\n",
        "    nn.Linear(10, 1)\n",
        ")\n",
        "\n",
        "# Batch setup\n",
        "batch_size = 2\n",
        "train_loader = DataLoader(TensorDataset(X, y), batch_size=batch_size, shuffle=True)\n",
        "\n",
        "# Training\n",
        "loss_fn = nn.MSELoss()\n",
        "optimizer = torch.optim.Adam(model.parameters(), lr=0.01)\n",
        "\n",
        "for epoch in range(50):\n",
        "    for batch_x, batch_y in train_loader:\n",
        "        # Forward\n",
        "        pred = model(batch_x)\n",
        "        loss = loss_fn(pred, batch_y)\n",
        "\n",
        "        # Backward\n",
        "        optimizer.zero_grad()\n",
        "        loss.backward()\n",
        "        optimizer.step()\n",
        "\n",
        "    if epoch % 10 == 0:\n",
        "        print(f'Epoch {epoch}, Loss: {loss.item():.4f}')\n",
        "\n",
        "# Test\n",
        "with torch.no_grad():\n",
        "    output = model(X)\n",
        "    print('\\nResults:')\n",
        "    for i in range(len(X)):\n",
        "        print(f'{X[i].tolist()} -> {output[i].item():.4f}')"
      ]
    }
  ]
}
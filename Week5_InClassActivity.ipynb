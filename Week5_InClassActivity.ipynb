{
  "cells": [
    {
      "cell_type": "markdown",
      "metadata": {
        "id": "view-in-github",
        "colab_type": "text"
      },
      "source": [
        "<a href=\"https://colab.research.google.com/github/KIRTIRAJ4327/ML/blob/main/Week5_InClassActivity.ipynb\" target=\"_parent\"><img src=\"https://colab.research.google.com/assets/colab-badge.svg\" alt=\"Open In Colab\"/></a>"
      ]
    },
    {
      "cell_type": "code",
      "execution_count": 1,
      "id": "e3b7d8b8",
      "metadata": {
        "colab": {
          "base_uri": "https://localhost:8080/"
        },
        "id": "e3b7d8b8",
        "outputId": "3ec3861c-e5e0-469e-f2ff-0397cc1248c2"
      },
      "outputs": [
        {
          "output_type": "stream",
          "name": "stdout",
          "text": [
            "0 0 tensor([[-0.4174],\n",
            "        [-0.1283],\n",
            "        [-0.2085]], grad_fn=<AddmmBackward0>) 0.5503619313240051\n",
            "0 1 tensor([[-0.4034]], grad_fn=<AddmmBackward0>) 1.9694899320602417\n",
            "1 0 tensor([[-0.3240],\n",
            "        [-0.0704],\n",
            "        [-0.1282]], grad_fn=<AddmmBackward0>) 0.46092867851257324\n",
            "1 1 tensor([[-0.3264]], grad_fn=<AddmmBackward0>) 1.7594252824783325\n",
            "2 0 tensor([[-0.2415],\n",
            "        [-0.0185],\n",
            "        [-0.0565]], grad_fn=<AddmmBackward0>) 0.3916495144367218\n",
            "2 1 tensor([[-0.2517]], grad_fn=<AddmmBackward0>) 1.5668398141860962\n",
            "3 0 tensor([[-0.1621],\n",
            "        [ 0.0312],\n",
            "        [ 0.0123]], grad_fn=<AddmmBackward0>) 0.3342452049255371\n",
            "3 1 tensor([[-0.1801]], grad_fn=<AddmmBackward0>) 1.3925244808197021\n",
            "4 0 tensor([[-0.0860],\n",
            "        [ 0.0788],\n",
            "        [ 0.0791]], grad_fn=<AddmmBackward0>) 0.2872340679168701\n",
            "4 1 tensor([[-0.1117]], grad_fn=<AddmmBackward0>) 1.2359132766723633\n",
            "5 0 tensor([[-0.0090],\n",
            "        [ 0.1246],\n",
            "        [ 0.1442]], grad_fn=<AddmmBackward0>) 0.24932043254375458\n",
            "5 1 tensor([[-0.0469]], grad_fn=<AddmmBackward0>) 1.095938801765442\n",
            "6 0 tensor([[0.0670],\n",
            "        [0.1686],\n",
            "        [0.2081]], grad_fn=<AddmmBackward0>) 0.22002632915973663\n",
            "6 1 tensor([[0.0145]], grad_fn=<AddmmBackward0>) 0.9712969064712524\n",
            "7 0 tensor([[0.1360],\n",
            "        [0.2109],\n",
            "        [0.2707]], grad_fn=<AddmmBackward0>) 0.19828474521636963\n",
            "7 1 tensor([[0.0723]], grad_fn=<AddmmBackward0>) 0.8605548143386841\n",
            "8 0 tensor([[0.2000],\n",
            "        [0.2512],\n",
            "        [0.3325]], grad_fn=<AddmmBackward0>) 0.1828656643629074\n",
            "8 1 tensor([[0.1271]], grad_fn=<AddmmBackward0>) 0.7620207071304321\n",
            "9 0 tensor([[0.2624],\n",
            "        [0.2895],\n",
            "        [0.3997]], grad_fn=<AddmmBackward0>) 0.171015664935112\n",
            "9 1 tensor([[0.1789]], grad_fn=<AddmmBackward0>) 0.6741780638694763\n",
            "epoch:  9  | loss:  0.42259686440229416 2\n",
            "Trained output:\n",
            "(y_pred)\n"
          ]
        }
      ],
      "source": [
        "import torch\n",
        "import torch.nn as nn\n",
        "from torch.utils.data import DataLoader, TensorDataset\n",
        "import time\n",
        "from torchsummary import summary\n",
        "\n",
        "n_in, n_h, n_out = 2,10,1\n",
        "\n",
        "X=torch.tensor([[1.,1.],[0.,0.],[1.,0.], [0.,1.]])\n",
        "y=torch.tensor([[0.],[0.],[1.], [1.]])\n",
        "\n",
        "model = nn.Sequential(\n",
        "    nn.Linear(n_in, n_h),\n",
        "    nn.ReLU(),\n",
        "    nn.Linear(n_h, n_out)\n",
        ")\n",
        "\n",
        "batch_size=3\n",
        "\n",
        "train_dataset = TensorDataset(X, y)\n",
        "train_loader = DataLoader(train_dataset, batch_size=batch_size, shuffle=False)\n",
        "\n",
        "lossFunction = torch.nn.MSELoss()\n",
        "\n",
        "optimizer = torch.optim.Adam(model.parameters(), lr = 0.01)\n",
        "\n",
        "for epoch in range(10):\n",
        "    train_loss = 0\n",
        "\n",
        "    for i, (features, targets) in enumerate(train_loader):\n",
        "\n",
        "        y_pred = model(features)\n",
        "\n",
        "        loss = lossFunction(y_pred, targets)\n",
        "\n",
        "        print(epoch, i, y_pred, loss.item())\n",
        "\n",
        "        train_loss += loss.item()\n",
        "\n",
        "        optimizer.zero_grad()\n",
        "\n",
        "        loss.backward()\n",
        "\n",
        "        optimizer.step()\n",
        "\n",
        "train_epoch_loss = train_loss/len(train_loader)\n",
        "print('epoch: ', epoch, ' | loss: ', train_epoch_loss, len(train_loader))\n",
        "\n",
        "y_pred = model(X)\n",
        "print(f'Trained output:\\n(y_pred)')"
      ]
    }
  ],
  "metadata": {
    "kernelspec": {
      "display_name": "d2l",
      "language": "python",
      "name": "python3"
    },
    "language_info": {
      "codemirror_mode": {
        "name": "ipython",
        "version": 3
      },
      "file_extension": ".py",
      "mimetype": "text/x-python",
      "name": "python",
      "nbconvert_exporter": "python",
      "pygments_lexer": "ipython3",
      "version": "3.9.21"
    },
    "colab": {
      "provenance": [],
      "include_colab_link": true
    }
  },
  "nbformat": 4,
  "nbformat_minor": 5
}